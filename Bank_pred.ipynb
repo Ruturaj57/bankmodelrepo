{
 "cells": [
  {
   "cell_type": "code",
   "execution_count": 1,
   "id": "f74b5ecf-9489-4657-9aed-bc98d2fbe048",
   "metadata": {},
   "outputs": [],
   "source": [
    "import numpy as np\n",
    "import tensorflow as tf\n",
    "import pandas as pd"
   ]
  },
  {
   "cell_type": "code",
   "execution_count": 2,
   "id": "12b2aa33-1393-4e86-9c1a-7b6101a8d7fa",
   "metadata": {},
   "outputs": [],
   "source": [
    "data = pd.read_csv('Part 8 - Deep Learning\\Section 39 - Artificial Neural Networks (ANN)\\Python\\Churn_Modelling.csv')"
   ]
  },
  {
   "cell_type": "code",
   "execution_count": 3,
   "id": "b7659608-8ed7-42a6-8f90-f02f276f6bb3",
   "metadata": {},
   "outputs": [],
   "source": [
    "x = data.iloc[:,3:-1].values\n",
    "y = data.iloc[:,-1].values"
   ]
  },
  {
   "cell_type": "code",
   "execution_count": 4,
   "id": "c77870ca-8ce7-4722-8ab9-7a050c769b45",
   "metadata": {},
   "outputs": [
    {
     "name": "stdout",
     "output_type": "stream",
     "text": [
      "[[619 'France' 'Female' ... 1 1 101348.88]\n",
      " [608 'Spain' 'Female' ... 0 1 112542.58]\n",
      " [502 'France' 'Female' ... 1 0 113931.57]\n",
      " ...\n",
      " [709 'France' 'Female' ... 0 1 42085.58]\n",
      " [772 'Germany' 'Male' ... 1 0 92888.52]\n",
      " [792 'France' 'Female' ... 1 0 38190.78]]\n"
     ]
    }
   ],
   "source": [
    "print(x)"
   ]
  },
  {
   "cell_type": "code",
   "execution_count": 5,
   "id": "90e89a68-e957-4df3-bd5d-723bc9aed87b",
   "metadata": {},
   "outputs": [
    {
     "name": "stdout",
     "output_type": "stream",
     "text": [
      "[1 0 1 ... 1 1 0]\n"
     ]
    }
   ],
   "source": [
    "print(y)"
   ]
  },
  {
   "cell_type": "code",
   "execution_count": 6,
   "id": "a779d5ab-549e-4544-85af-637adae0cb58",
   "metadata": {},
   "outputs": [],
   "source": [
    "from sklearn.preprocessing import LabelEncoder"
   ]
  },
  {
   "cell_type": "code",
   "execution_count": 7,
   "id": "e148f994-2c13-47b6-8999-3c83f59a049c",
   "metadata": {},
   "outputs": [],
   "source": [
    "le = LabelEncoder()\n",
    "x[:,2] = le.fit_transform(x[:,2])"
   ]
  },
  {
   "cell_type": "code",
   "execution_count": 8,
   "id": "cbf91d36-89c3-4b27-bb0c-34d7dc059e1f",
   "metadata": {},
   "outputs": [
    {
     "data": {
      "text/plain": [
       "array([[619, 'France', 0, ..., 1, 1, 101348.88],\n",
       "       [608, 'Spain', 0, ..., 0, 1, 112542.58],\n",
       "       [502, 'France', 0, ..., 1, 0, 113931.57],\n",
       "       ...,\n",
       "       [709, 'France', 0, ..., 0, 1, 42085.58],\n",
       "       [772, 'Germany', 1, ..., 1, 0, 92888.52],\n",
       "       [792, 'France', 0, ..., 1, 0, 38190.78]], dtype=object)"
      ]
     },
     "execution_count": 8,
     "metadata": {},
     "output_type": "execute_result"
    }
   ],
   "source": [
    "x"
   ]
  },
  {
   "cell_type": "code",
   "execution_count": 9,
   "id": "0adfe10d-c453-4767-892d-a2495d7abc87",
   "metadata": {},
   "outputs": [],
   "source": [
    "from sklearn.compose import ColumnTransformer\n",
    "from sklearn.preprocessing import OneHotEncoder"
   ]
  },
  {
   "cell_type": "code",
   "execution_count": 10,
   "id": "1b7d1eb0-c874-4eac-a984-274c1bbd43f2",
   "metadata": {},
   "outputs": [],
   "source": [
    "ct = ColumnTransformer(transformers=[('encoder',OneHotEncoder(),[1])],remainder='passthrough')\n",
    "x = np.array(ct.fit_transform(x))"
   ]
  },
  {
   "cell_type": "code",
   "execution_count": 11,
   "id": "687256f7-a436-45fe-917f-99b9c01cc704",
   "metadata": {},
   "outputs": [],
   "source": [
    "from sklearn.model_selection import train_test_split\n",
    "x_train,x_test,y_train,y_test = train_test_split(x,y,test_size = 0.2,random_state=0)"
   ]
  },
  {
   "cell_type": "code",
   "execution_count": 12,
   "id": "34bf8534-8103-44c8-a0ce-756c481b7476",
   "metadata": {},
   "outputs": [],
   "source": [
    "from sklearn.preprocessing import StandardScaler\n",
    "sc = StandardScaler()\n",
    "x_train = sc.fit_transform(x_train)\n",
    "x_test = sc.transform(x_test)"
   ]
  },
  {
   "cell_type": "code",
   "execution_count": 13,
   "id": "a5575e03-b36f-45df-96ee-8c8997974ef4",
   "metadata": {},
   "outputs": [],
   "source": [
    "ann = tf.keras.models.Sequential()"
   ]
  },
  {
   "cell_type": "code",
   "execution_count": 14,
   "id": "782be4c6-b029-4953-bac8-8f999be93f7f",
   "metadata": {},
   "outputs": [],
   "source": [
    "ann.add(tf.keras.layers.Dense(units=6,activation = 'relu'))"
   ]
  },
  {
   "cell_type": "code",
   "execution_count": 15,
   "id": "68cb83f3-9f57-4689-ba58-a10bdeab9a1b",
   "metadata": {},
   "outputs": [],
   "source": [
    "ann.add(tf.keras.layers.Dense(units=6,activation = 'relu'))"
   ]
  },
  {
   "cell_type": "code",
   "execution_count": 16,
   "id": "338ec495-f9e6-4848-8dc0-cadd5b12a0a7",
   "metadata": {},
   "outputs": [],
   "source": [
    "ann.add(tf.keras.layers.Dense(units=1,activation = 'sigmoid'))"
   ]
  },
  {
   "cell_type": "code",
   "execution_count": 17,
   "id": "715daf0f-2314-4713-861d-a2839ac621ba",
   "metadata": {},
   "outputs": [],
   "source": [
    "ann.compile(optimizer='adam',loss='binary_crossentropy',metrics=['accuracy'])"
   ]
  },
  {
   "cell_type": "code",
   "execution_count": 18,
   "id": "dacc1863-65bc-4205-8151-070100066c40",
   "metadata": {},
   "outputs": [
    {
     "name": "stdout",
     "output_type": "stream",
     "text": [
      "Epoch 1/100\n",
      "250/250 [==============================] - 1s 774us/step - loss: 0.5679 - accuracy: 0.7674\n",
      "Epoch 2/100\n",
      "250/250 [==============================] - 0s 764us/step - loss: 0.4908 - accuracy: 0.8011\n",
      "Epoch 3/100\n",
      "250/250 [==============================] - 0s 762us/step - loss: 0.4491 - accuracy: 0.8174\n",
      "Epoch 4/100\n",
      "250/250 [==============================] - 0s 754us/step - loss: 0.4253 - accuracy: 0.8254\n",
      "Epoch 5/100\n",
      "250/250 [==============================] - 0s 766us/step - loss: 0.4138 - accuracy: 0.8280\n",
      "Epoch 6/100\n",
      "250/250 [==============================] - 0s 762us/step - loss: 0.4072 - accuracy: 0.8291\n",
      "Epoch 7/100\n",
      "250/250 [==============================] - 0s 842us/step - loss: 0.4026 - accuracy: 0.8304\n",
      "Epoch 8/100\n",
      "250/250 [==============================] - 0s 783us/step - loss: 0.3989 - accuracy: 0.8310\n",
      "Epoch 9/100\n",
      "250/250 [==============================] - 0s 826us/step - loss: 0.3953 - accuracy: 0.8298\n",
      "Epoch 10/100\n",
      "250/250 [==============================] - 0s 768us/step - loss: 0.3923 - accuracy: 0.8310\n",
      "Epoch 11/100\n",
      "250/250 [==============================] - 0s 763us/step - loss: 0.3894 - accuracy: 0.8319\n",
      "Epoch 12/100\n",
      "250/250 [==============================] - 0s 755us/step - loss: 0.3872 - accuracy: 0.8321\n",
      "Epoch 13/100\n",
      "250/250 [==============================] - 0s 789us/step - loss: 0.3851 - accuracy: 0.8330\n",
      "Epoch 14/100\n",
      "250/250 [==============================] - 0s 769us/step - loss: 0.3834 - accuracy: 0.8340\n",
      "Epoch 15/100\n",
      "250/250 [==============================] - 0s 755us/step - loss: 0.3814 - accuracy: 0.8342\n",
      "Epoch 16/100\n",
      "250/250 [==============================] - 0s 770us/step - loss: 0.3796 - accuracy: 0.8350\n",
      "Epoch 17/100\n",
      "250/250 [==============================] - 0s 761us/step - loss: 0.3778 - accuracy: 0.8346\n",
      "Epoch 18/100\n",
      "250/250 [==============================] - 0s 795us/step - loss: 0.3763 - accuracy: 0.8354\n",
      "Epoch 19/100\n",
      "250/250 [==============================] - 0s 766us/step - loss: 0.3749 - accuracy: 0.8336\n",
      "Epoch 20/100\n",
      "250/250 [==============================] - 0s 760us/step - loss: 0.3734 - accuracy: 0.8354\n",
      "Epoch 21/100\n",
      "250/250 [==============================] - 0s 774us/step - loss: 0.3722 - accuracy: 0.8354\n",
      "Epoch 22/100\n",
      "250/250 [==============================] - 0s 768us/step - loss: 0.3708 - accuracy: 0.8367\n",
      "Epoch 23/100\n",
      "250/250 [==============================] - 0s 764us/step - loss: 0.3696 - accuracy: 0.8347\n",
      "Epoch 24/100\n",
      "250/250 [==============================] - 0s 754us/step - loss: 0.3684 - accuracy: 0.8353\n",
      "Epoch 25/100\n",
      "250/250 [==============================] - 0s 777us/step - loss: 0.3674 - accuracy: 0.8350\n",
      "Epoch 26/100\n",
      "250/250 [==============================] - 0s 778us/step - loss: 0.3670 - accuracy: 0.8364\n",
      "Epoch 27/100\n",
      "250/250 [==============================] - 0s 782us/step - loss: 0.3660 - accuracy: 0.8414\n",
      "Epoch 28/100\n",
      "250/250 [==============================] - 0s 770us/step - loss: 0.3647 - accuracy: 0.8475\n",
      "Epoch 29/100\n",
      "250/250 [==============================] - 0s 773us/step - loss: 0.3639 - accuracy: 0.8487\n",
      "Epoch 30/100\n",
      "250/250 [==============================] - 0s 874us/step - loss: 0.3635 - accuracy: 0.8493\n",
      "Epoch 31/100\n",
      "250/250 [==============================] - 0s 757us/step - loss: 0.3623 - accuracy: 0.8489\n",
      "Epoch 32/100\n",
      "250/250 [==============================] - 0s 761us/step - loss: 0.3615 - accuracy: 0.8508\n",
      "Epoch 33/100\n",
      "250/250 [==============================] - 0s 762us/step - loss: 0.3605 - accuracy: 0.8503\n",
      "Epoch 34/100\n",
      "250/250 [==============================] - 0s 802us/step - loss: 0.3594 - accuracy: 0.8525\n",
      "Epoch 35/100\n",
      "250/250 [==============================] - 0s 762us/step - loss: 0.3592 - accuracy: 0.8512\n",
      "Epoch 36/100\n",
      "250/250 [==============================] - 0s 766us/step - loss: 0.3583 - accuracy: 0.8530\n",
      "Epoch 37/100\n",
      "250/250 [==============================] - 0s 767us/step - loss: 0.3575 - accuracy: 0.8551\n",
      "Epoch 38/100\n",
      "250/250 [==============================] - 0s 756us/step - loss: 0.3570 - accuracy: 0.8544\n",
      "Epoch 39/100\n",
      "250/250 [==============================] - 0s 771us/step - loss: 0.3570 - accuracy: 0.8544\n",
      "Epoch 40/100\n",
      "250/250 [==============================] - 0s 777us/step - loss: 0.3560 - accuracy: 0.8551\n",
      "Epoch 41/100\n",
      "250/250 [==============================] - 0s 748us/step - loss: 0.3554 - accuracy: 0.8562\n",
      "Epoch 42/100\n",
      "250/250 [==============================] - 0s 754us/step - loss: 0.3551 - accuracy: 0.8543\n",
      "Epoch 43/100\n",
      "250/250 [==============================] - 0s 752us/step - loss: 0.3544 - accuracy: 0.8570\n",
      "Epoch 44/100\n",
      "250/250 [==============================] - 0s 794us/step - loss: 0.3538 - accuracy: 0.8566\n",
      "Epoch 45/100\n",
      "250/250 [==============================] - 0s 767us/step - loss: 0.3529 - accuracy: 0.8568\n",
      "Epoch 46/100\n",
      "250/250 [==============================] - 0s 757us/step - loss: 0.3529 - accuracy: 0.8575\n",
      "Epoch 47/100\n",
      "250/250 [==============================] - 0s 754us/step - loss: 0.3519 - accuracy: 0.8580\n",
      "Epoch 48/100\n",
      "250/250 [==============================] - 0s 763us/step - loss: 0.3519 - accuracy: 0.8576\n",
      "Epoch 49/100\n",
      "250/250 [==============================] - 0s 763us/step - loss: 0.3513 - accuracy: 0.8587\n",
      "Epoch 50/100\n",
      "250/250 [==============================] - 0s 761us/step - loss: 0.3506 - accuracy: 0.8596\n",
      "Epoch 51/100\n",
      "250/250 [==============================] - 0s 760us/step - loss: 0.3504 - accuracy: 0.8572\n",
      "Epoch 52/100\n",
      "250/250 [==============================] - 0s 778us/step - loss: 0.3504 - accuracy: 0.8596\n",
      "Epoch 53/100\n",
      "250/250 [==============================] - 0s 755us/step - loss: 0.3497 - accuracy: 0.8596\n",
      "Epoch 54/100\n",
      "250/250 [==============================] - 0s 754us/step - loss: 0.3488 - accuracy: 0.8595\n",
      "Epoch 55/100\n",
      "250/250 [==============================] - 0s 754us/step - loss: 0.3486 - accuracy: 0.8621\n",
      "Epoch 56/100\n",
      "250/250 [==============================] - 0s 752us/step - loss: 0.3487 - accuracy: 0.8590\n",
      "Epoch 57/100\n",
      "250/250 [==============================] - 0s 770us/step - loss: 0.3485 - accuracy: 0.8599\n",
      "Epoch 58/100\n",
      "250/250 [==============================] - 0s 761us/step - loss: 0.3480 - accuracy: 0.8602\n",
      "Epoch 59/100\n",
      "250/250 [==============================] - 0s 768us/step - loss: 0.3481 - accuracy: 0.8625\n",
      "Epoch 60/100\n",
      "250/250 [==============================] - 0s 751us/step - loss: 0.3474 - accuracy: 0.8611\n",
      "Epoch 61/100\n",
      "250/250 [==============================] - 0s 762us/step - loss: 0.3469 - accuracy: 0.8609\n",
      "Epoch 62/100\n",
      "250/250 [==============================] - 0s 799us/step - loss: 0.3470 - accuracy: 0.8612\n",
      "Epoch 63/100\n",
      "250/250 [==============================] - 0s 768us/step - loss: 0.3463 - accuracy: 0.8618\n",
      "Epoch 64/100\n",
      "250/250 [==============================] - 0s 761us/step - loss: 0.3463 - accuracy: 0.8625\n",
      "Epoch 65/100\n",
      "250/250 [==============================] - 0s 768us/step - loss: 0.3461 - accuracy: 0.8620\n",
      "Epoch 66/100\n",
      "250/250 [==============================] - 0s 769us/step - loss: 0.3456 - accuracy: 0.8627\n",
      "Epoch 67/100\n",
      "250/250 [==============================] - 0s 763us/step - loss: 0.3457 - accuracy: 0.8618\n",
      "Epoch 68/100\n",
      "250/250 [==============================] - 0s 782us/step - loss: 0.3451 - accuracy: 0.8612\n",
      "Epoch 69/100\n",
      "250/250 [==============================] - 0s 800us/step - loss: 0.3453 - accuracy: 0.8625\n",
      "Epoch 70/100\n",
      "250/250 [==============================] - 0s 800us/step - loss: 0.3450 - accuracy: 0.8620\n",
      "Epoch 71/100\n",
      "250/250 [==============================] - 0s 755us/step - loss: 0.3444 - accuracy: 0.8636\n",
      "Epoch 72/100\n",
      "250/250 [==============================] - 0s 759us/step - loss: 0.3442 - accuracy: 0.8634\n",
      "Epoch 73/100\n",
      "250/250 [==============================] - 0s 763us/step - loss: 0.3438 - accuracy: 0.8633\n",
      "Epoch 74/100\n",
      "250/250 [==============================] - 0s 752us/step - loss: 0.3439 - accuracy: 0.8626\n",
      "Epoch 75/100\n",
      "250/250 [==============================] - 0s 761us/step - loss: 0.3433 - accuracy: 0.8637\n",
      "Epoch 76/100\n",
      "250/250 [==============================] - 0s 743us/step - loss: 0.3433 - accuracy: 0.8626\n",
      "Epoch 77/100\n",
      "250/250 [==============================] - 0s 804us/step - loss: 0.3426 - accuracy: 0.8622\n",
      "Epoch 78/100\n",
      "250/250 [==============================] - 0s 757us/step - loss: 0.3428 - accuracy: 0.8643\n",
      "Epoch 79/100\n",
      "250/250 [==============================] - 0s 761us/step - loss: 0.3429 - accuracy: 0.8614\n",
      "Epoch 80/100\n",
      "250/250 [==============================] - 0s 850us/step - loss: 0.3423 - accuracy: 0.8624\n",
      "Epoch 81/100\n",
      "250/250 [==============================] - 0s 754us/step - loss: 0.3422 - accuracy: 0.8624\n",
      "Epoch 82/100\n",
      "250/250 [==============================] - 0s 772us/step - loss: 0.3418 - accuracy: 0.8627\n",
      "Epoch 83/100\n",
      "250/250 [==============================] - 0s 751us/step - loss: 0.3422 - accuracy: 0.8622\n",
      "Epoch 84/100\n",
      "250/250 [==============================] - 0s 880us/step - loss: 0.3414 - accuracy: 0.8627\n",
      "Epoch 85/100\n",
      "250/250 [==============================] - 0s 848us/step - loss: 0.3413 - accuracy: 0.8639\n",
      "Epoch 86/100\n",
      "250/250 [==============================] - 0s 876us/step - loss: 0.3419 - accuracy: 0.8637\n",
      "Epoch 87/100\n",
      "250/250 [==============================] - 0s 902us/step - loss: 0.3411 - accuracy: 0.8645\n",
      "Epoch 88/100\n",
      "250/250 [==============================] - 0s 947us/step - loss: 0.3410 - accuracy: 0.8641\n",
      "Epoch 89/100\n",
      "250/250 [==============================] - 0s 901us/step - loss: 0.3405 - accuracy: 0.8640\n",
      "Epoch 90/100\n",
      "250/250 [==============================] - 0s 936us/step - loss: 0.3404 - accuracy: 0.8633\n",
      "Epoch 91/100\n",
      "250/250 [==============================] - 0s 942us/step - loss: 0.3399 - accuracy: 0.8644\n",
      "Epoch 92/100\n",
      "250/250 [==============================] - 0s 863us/step - loss: 0.3398 - accuracy: 0.8650\n",
      "Epoch 93/100\n",
      "250/250 [==============================] - 0s 908us/step - loss: 0.3403 - accuracy: 0.8626\n",
      "Epoch 94/100\n",
      "250/250 [==============================] - 0s 898us/step - loss: 0.3402 - accuracy: 0.8644\n",
      "Epoch 95/100\n",
      "250/250 [==============================] - 0s 891us/step - loss: 0.3389 - accuracy: 0.8625\n",
      "Epoch 96/100\n",
      "250/250 [==============================] - 0s 880us/step - loss: 0.3394 - accuracy: 0.8634\n",
      "Epoch 97/100\n",
      "250/250 [==============================] - 0s 885us/step - loss: 0.3391 - accuracy: 0.8634\n",
      "Epoch 98/100\n",
      "250/250 [==============================] - 0s 873us/step - loss: 0.3399 - accuracy: 0.8641\n",
      "Epoch 99/100\n",
      "250/250 [==============================] - 0s 886us/step - loss: 0.3385 - accuracy: 0.8649\n",
      "Epoch 100/100\n",
      "250/250 [==============================] - 0s 882us/step - loss: 0.3391 - accuracy: 0.8639\n"
     ]
    },
    {
     "data": {
      "text/plain": [
       "<keras.src.callbacks.History at 0x1d61028e7d0>"
      ]
     },
     "execution_count": 18,
     "metadata": {},
     "output_type": "execute_result"
    }
   ],
   "source": [
    "ann.fit(x_train,y_train,batch_size = 32,epochs=100)"
   ]
  },
  {
   "cell_type": "code",
   "execution_count": 20,
   "id": "0fdce47c-d565-4d61-858a-edb2bbb3fd2c",
   "metadata": {},
   "outputs": [
    {
     "name": "stdout",
     "output_type": "stream",
     "text": [
      "1/1 [==============================] - 0s 20ms/step\n",
      "[[False]]\n"
     ]
    }
   ],
   "source": [
    "print(ann.predict(sc.transform([[1,0,0,600,1,40,3,6000,2,1,1,5000]]))>0.5)"
   ]
  },
  {
   "cell_type": "code",
   "execution_count": 21,
   "id": "2733a10c-ba55-4ce2-b717-7120927cdedd",
   "metadata": {},
   "outputs": [],
   "source": [
    "import pickle"
   ]
  },
  {
   "cell_type": "code",
   "execution_count": 22,
   "id": "c7712286-20b1-4097-9edb-e33cebbb5e26",
   "metadata": {},
   "outputs": [],
   "source": [
    "pickle.dump(ann,open('annmodel.pkl','wb'))"
   ]
  },
  {
   "cell_type": "code",
   "execution_count": 23,
   "id": "1a0dfa47-740e-46ce-9217-e9c6cab2c042",
   "metadata": {},
   "outputs": [],
   "source": [
    "pickled_model = pickle.load(open('annmodel.pkl','rb'))"
   ]
  },
  {
   "cell_type": "code",
   "execution_count": 27,
   "id": "bfb6d15d-e36b-4e83-aed2-f82b65e55e11",
   "metadata": {},
   "outputs": [
    {
     "name": "stdout",
     "output_type": "stream",
     "text": [
      "1/1 [==============================] - 0s 50ms/step\n"
     ]
    },
    {
     "data": {
      "text/plain": [
       "array([[False]])"
      ]
     },
     "execution_count": 27,
     "metadata": {},
     "output_type": "execute_result"
    }
   ],
   "source": [
    "pickled_model.predict(sc.transform([[1,0,0,600,1,40,3,6000,2,1,1,5000]]))>0.5"
   ]
  },
  {
   "cell_type": "code",
   "execution_count": null,
   "id": "5caaba01-2dab-4e0e-a5a5-ab8acba64895",
   "metadata": {},
   "outputs": [],
   "source": []
  }
 ],
 "metadata": {
  "kernelspec": {
   "display_name": "Python 3 (ipykernel)",
   "language": "python",
   "name": "python3"
  },
  "language_info": {
   "codemirror_mode": {
    "name": "ipython",
    "version": 3
   },
   "file_extension": ".py",
   "mimetype": "text/x-python",
   "name": "python",
   "nbconvert_exporter": "python",
   "pygments_lexer": "ipython3",
   "version": "3.11.3"
  }
 },
 "nbformat": 4,
 "nbformat_minor": 5
}
